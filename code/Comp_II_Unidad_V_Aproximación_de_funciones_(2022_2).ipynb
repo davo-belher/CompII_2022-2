{
  "nbformat": 4,
  "nbformat_minor": 0,
  "metadata": {
    "colab": {
      "name": "Comp II - Unidad V - Aproximación de funciones (2022-2).ipynb",
      "private_outputs": true,
      "provenance": [],
      "collapsed_sections": [],
      "authorship_tag": "ABX9TyP1E2lowcSzgfG56vnw+vtc",
      "include_colab_link": true
    },
    "kernelspec": {
      "name": "python3",
      "display_name": "Python 3"
    },
    "language_info": {
      "name": "python"
    }
  },
  "cells": [
    {
      "cell_type": "markdown",
      "metadata": {
        "id": "view-in-github",
        "colab_type": "text"
      },
      "source": [
        "<a href=\"https://colab.research.google.com/github/ulises1229/CompII_2022-2/blob/main/code/Comp_II_Unidad_V_Aproximaci%C3%B3n_de_funciones_(2022_2).ipynb\" target=\"_parent\"><img src=\"https://colab.research.google.com/assets/colab-badge.svg\" alt=\"Open In Colab\"/></a>"
      ]
    },
    {
      "cell_type": "markdown",
      "metadata": {
        "id": "KtYsO_Cai7At"
      },
      "source": [
        "# Computación II\n",
        "## Unidad V - Aproximación de funciones\n",
        "+ Autor: Ulises Olivares\n",
        "+ uolivares@unam.mx\n",
        "+ Apr 18, 2021\n",
        "\n",
        "<table align=\"center\">\n",
        "\n",
        "<td align=\"center\"><a target=\"_blank\" href=\"https://colab.research.google.com/drive/1byLcQJnMBL7MyqTDi3rRPvWS-kQCTYoi?usp=sharing\">\n",
        "        <img src=\"https://i.ibb.co/2P3SLwK/colab.png\"  style=\"padding-bottom:5px;\" />Ejecutar en Google Colab</a></td>\n",
        "  <td align=\"center\"><a target=\"_blank\" href=\"https://github.com/ulises1229/ComputacionII-2021-2/blob/main/code/Comp_II_Unidad_V_Aproximaci%C3%B3n_de_funciones_(2022_2).ipynb\">\n",
        "        <img src=\"https://i.ibb.co/xfJbPmL/github.png\"  height=\"70px\" style=\"padding-bottom:5px;\"  />Ver código fuente en GitHub</a></td>\n",
        "</table>"
      ]
    },
    {
      "cell_type": "markdown",
      "metadata": {
        "id": "8cr88nxkEc8v"
      },
      "source": [
        "# 1. Regresiones utilizando mínimos cuadrados\n"
      ]
    },
    {
      "cell_type": "code",
      "metadata": {
        "id": "_prr4smfEt46"
      },
      "source": [
        "import sympy\n",
        "from sympy.abc  import x\n",
        "import matplotlib.pyplot as plt\n",
        "import numpy as np\n",
        "\n",
        "class LeastSquares():\n",
        "\n",
        "    def linearRegression(self, X, Y):\n",
        "        if(len(X) == len(Y)):\n",
        "            Xi = 0\n",
        "            Yi = 0\n",
        "            XY = 0\n",
        "            Xi2 =0\n",
        "            for i in range(len(X)):\n",
        "                Xi += X[i]\n",
        "                Yi += Y[i]\n",
        "                XY += X[i]*Y[i]\n",
        "                Xi2 += X[i]**2\n",
        "            # calculate (a1) \n",
        "            slope = ((len(X) * XY ) - (Xi *Yi)) / ((len(X) * Xi2) - Xi**2)\n",
        "            # calculate (a0)\n",
        "            intercept = (Yi/len(X)) - (slope * (Xi/len(X)))\n",
        "        else:\n",
        "            print(\"Los vectores no tienen el mismo número de elementos...\")\n",
        "            exit(0)\n",
        "\n",
        "        return intercept, slope\n",
        "    \n",
        "    def squareMeanError(self, X, Y, func):\n",
        "        meanError = 0\n",
        "        # \n",
        "        for i in range (len(X)):\n",
        "            meanError = abs(Y[i] - func.subs(x, X[i]))\n",
        "        return meanError\n",
        "\n",
        "    # TODO: Calcular coeficiente de determinación\n",
        "    #       Calc. coef. de correlación\n",
        "\n",
        "\n",
        "\n",
        "\n",
        "class Graph():\n",
        "    # Genera un gráfico de dispersión\n",
        "    def plotScatter(self, X, Y, lab):\n",
        "        plt.scatter(X, Y, label = lab)\n",
        "        plt.title(\"Diagrama de dispersión Variable Independiente Vs Dependiente\")\n",
        "        plt.xlabel(\"X\")\n",
        "        plt.ylabel(\"Y\")\n",
        "    # Genera un gráfico de línea\n",
        "\n",
        "    def plotLine(self, func,a ,b, leg):\n",
        "        X = np.linspace(a, b, 100)\n",
        "        Y = np.zeros_like(X)\n",
        "\n",
        "        for i in range(len(X)):\n",
        "            Y[i] = func.subs(x, X[i])\n",
        "        \n",
        "        plt.plot(X,Y,  c =\"green\", ls='--', label = leg )\n",
        "        plt.legend(loc='best')\n",
        "    # Despliega el gráfico (útil para ) \n",
        "    def displayPlot(self):\n",
        "        plt.show()\n",
        "\n",
        "\n",
        "def main():\n",
        "\n",
        "    # TODO: Importar datos de datahub\n",
        "    X = [1, 4, 8, 16, 32, 64, 128, 256, 300]\n",
        "    Y = [2, 8, 16, 32, 64, 128, 256, 512, 1024]\n",
        "\n",
        "    # ---------------------------------------\n",
        "    # Regresión por mínimos cuadrados\n",
        "    # ---------------------------------------\n",
        "    ls = LeastSquares()\n",
        "\n",
        "    a0, a1 = ls.linearRegression(X, Y)\n",
        "\n",
        "    linearReg = a0 + a1 * x\n",
        "\n",
        "    print(\"Regresión lineal: \", linearReg)\n",
        "\n",
        "    graph = Graph()\n",
        "    graph.plotScatter(X,Y, \"Puntos originales\")\n",
        "\n",
        "    graph.plotLine(linealReg, X[0], X[len(X)-1], \"Regresión lineal\")\n",
        "\n",
        "\n",
        "    graph.displayPlot()\n",
        "    \n",
        "    print(\"Error cuadrático medio: \", ls.squareMeanError(X, Y, linealReg))\n",
        "\n",
        "    \n",
        "   \n",
        "    \n",
        "    \n",
        "\n",
        "if __name__ == \"__main__\":\n",
        "    main()"
      ],
      "execution_count": null,
      "outputs": []
    }
  ]
}